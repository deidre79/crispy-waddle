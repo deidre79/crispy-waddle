{
 "cells": [
  {
   "cell_type": "code",
   "execution_count": 2,
   "id": "974484de",
   "metadata": {},
   "outputs": [],
   "source": [
    "names = [\"Amaya\", \"Saugat\", \"Deidre\"]\n"
   ]
  },
  {
   "cell_type": "code",
   "execution_count": 3,
   "id": "213072cb",
   "metadata": {},
   "outputs": [],
   "source": [
    "def writesentence(word):\n",
    "    new_sentence = word + \" is great at coding! :-)\"\n",
    "    print(new_sentence)\n",
    "    "
   ]
  },
  {
   "cell_type": "code",
   "execution_count": 4,
   "id": "17e26763",
   "metadata": {},
   "outputs": [
    {
     "name": "stdout",
     "output_type": "stream",
     "text": [
      "Amaya is great at coding! :-)\n",
      "Saugat is great at coding! :-)\n",
      "Deidre is great at coding! :-)\n"
     ]
    }
   ],
   "source": [
    "for x in names:\n",
    "        writesentence(x)"
   ]
  },
  {
   "cell_type": "code",
   "execution_count": 5,
   "id": "6a4174fd",
   "metadata": {},
   "outputs": [
    {
     "name": "stdout",
     "output_type": "stream",
     "text": [
      "Amaya is also great at coding 8)\n",
      "Saugat is also great at coding 8)\n",
      "Deidre is great at coding! :-)\n"
     ]
    }
   ],
   "source": [
    "for x in names:\n",
    "    if x == \"Deidre\":\n",
    "        writesentence(x)\n",
    "    else:\n",
    "        print(x + \" is also great at coding 8)\")\n",
    "        "
   ]
  },
  {
   "cell_type": "code",
   "execution_count": null,
   "id": "64f6885a",
   "metadata": {},
   "outputs": [],
   "source": []
  },
  {
   "cell_type": "code",
   "execution_count": null,
   "id": "3d143350",
   "metadata": {},
   "outputs": [],
   "source": []
  }
 ],
 "metadata": {
  "kernelspec": {
   "display_name": "Python 3 (ipykernel)",
   "language": "python",
   "name": "python3"
  },
  "language_info": {
   "codemirror_mode": {
    "name": "ipython",
    "version": 3
   },
   "file_extension": ".py",
   "mimetype": "text/x-python",
   "name": "python",
   "nbconvert_exporter": "python",
   "pygments_lexer": "ipython3",
   "version": "3.9.13"
  }
 },
 "nbformat": 4,
 "nbformat_minor": 5
}
